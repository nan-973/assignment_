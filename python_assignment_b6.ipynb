{
  "cells": [
    {
      "cell_type": "markdown",
      "metadata": {
        "id": "view-in-github",
        "colab_type": "text"
      },
      "source": [
        "<a href=\"https://colab.research.google.com/github/nan-973/assignment_/blob/main/python_assignment_b6.ipynb\" target=\"_parent\"><img src=\"https://colab.research.google.com/assets/colab-badge.svg\" alt=\"Open In Colab\"/></a>"
      ]
    },
    {
      "cell_type": "markdown",
      "id": "d2328cad",
      "metadata": {
        "id": "d2328cad"
      },
      "source": [
        "# Python Basics Assignment"
      ]
    },
    {
      "cell_type": "markdown",
      "id": "cb537954",
      "metadata": {
        "id": "cb537954"
      },
      "source": [
        "### Question 1\n",
        "Write a function to compute number of vowels in a string given as input"
      ]
    },
    {
      "cell_type": "code",
      "execution_count": 164,
      "id": "cf213ba2",
      "metadata": {
        "colab": {
          "base_uri": "https://localhost:8080/"
        },
        "id": "cf213ba2",
        "outputId": "e62a69a7-7611-4fe8-a1a4-636cc9bc0ef6"
      },
      "outputs": [
        {
          "output_type": "stream",
          "name": "stdout",
          "text": [
            "number of vowel in string: 4\n"
          ]
        }
      ],
      "source": [
        "def your_function_1(s):\n",
        "  c=0\n",
        "  for i in s:\n",
        "    if i=='a' or i=='e' or i=='i' or i=='o' or i=='u' or i=='A' or i=='E' or i=='I' or i=='O' or i=='U':\n",
        "      c+=1\n",
        "  return c\n",
        "\n",
        "result = your_function_1(s=\"Sereena\")\n",
        "print(\"number of vowel in string:\",result)"
      ]
    },
    {
      "cell_type": "markdown",
      "id": "4eaff430",
      "metadata": {
        "id": "4eaff430"
      },
      "source": [
        "### Question 2\n",
        "Write a function that checks whether a number is prime."
      ]
    },
    {
      "cell_type": "code",
      "execution_count": 165,
      "id": "81934cf7",
      "metadata": {
        "colab": {
          "base_uri": "https://localhost:8080/"
        },
        "id": "81934cf7",
        "outputId": "b2eeb71c-efc4-4baf-d801-acf19e96745f"
      },
      "outputs": [
        {
          "output_type": "stream",
          "name": "stdout",
          "text": [
            "True\n"
          ]
        }
      ],
      "source": [
        "def your_function_2(n):\n",
        "  c=0\n",
        "  for i in range(1,n+1):\n",
        "    if n%i==0:\n",
        "      c+=1\n",
        "  if c==2:\n",
        "    return True\n",
        "  else:\n",
        "    return False\n",
        "\n",
        "result = your_function_2(n=3)\n",
        "print(result)"
      ]
    },
    {
      "cell_type": "markdown",
      "id": "5f061e50",
      "metadata": {
        "id": "5f061e50"
      },
      "source": [
        "### Question 3\n",
        "Write a function to return the maximum of two numbers."
      ]
    },
    {
      "cell_type": "code",
      "execution_count": 166,
      "id": "44e2a596",
      "metadata": {
        "colab": {
          "base_uri": "https://localhost:8080/"
        },
        "id": "44e2a596",
        "outputId": "596b3b33-f934-4c8d-be0b-744552473cd5"
      },
      "outputs": [
        {
          "output_type": "stream",
          "name": "stdout",
          "text": [
            "8\n"
          ]
        }
      ],
      "source": [
        "def your_function_3(a,b):\n",
        "  return max(a,b)\n",
        "\n",
        "result=your_function_3(a=8, b=5)\n",
        "print(result)"
      ]
    },
    {
      "cell_type": "markdown",
      "id": "7513ca91",
      "metadata": {
        "id": "7513ca91"
      },
      "source": [
        "### Question 4\n",
        "Write a function to return the factorial of a number."
      ]
    },
    {
      "cell_type": "code",
      "execution_count": 167,
      "id": "6617842f",
      "metadata": {
        "colab": {
          "base_uri": "https://localhost:8080/"
        },
        "id": "6617842f",
        "outputId": "57f27df4-0031-4549-c796-ec595128eba9"
      },
      "outputs": [
        {
          "output_type": "stream",
          "name": "stdout",
          "text": [
            "120\n"
          ]
        }
      ],
      "source": [
        "def your_function_4(p):\n",
        "  q=1\n",
        "  for i in range(1,p+1):\n",
        "    q=q*i\n",
        "  return q\n",
        "\n",
        "result=your_function_4(5)\n",
        "print(result)"
      ]
    },
    {
      "cell_type": "markdown",
      "id": "9b942098",
      "metadata": {
        "id": "9b942098"
      },
      "source": [
        "### Question 5\n",
        "Write a function to reverse a string without string indexing."
      ]
    },
    {
      "cell_type": "code",
      "execution_count": 168,
      "id": "d606b194",
      "metadata": {
        "colab": {
          "base_uri": "https://localhost:8080/"
        },
        "id": "d606b194",
        "outputId": "942bd83e-de65-4fe0-d2b2-80714db38599"
      },
      "outputs": [
        {
          "output_type": "stream",
          "name": "stdout",
          "text": [
            "anadnaN\n"
          ]
        }
      ],
      "source": [
        "def your_function_5(d):\n",
        "  r=\"\"\n",
        "  for i in d:\n",
        "    r=i+r\n",
        "  return r\n",
        "\n",
        "result=your_function_5(\"Nandana\")\n",
        "print(result)\n"
      ]
    },
    {
      "cell_type": "markdown",
      "id": "1abd915b",
      "metadata": {
        "id": "1abd915b"
      },
      "source": [
        "### Question 6\n",
        "Write a function to check if a string is a palindrome."
      ]
    },
    {
      "cell_type": "code",
      "execution_count": 169,
      "id": "2b868fb3",
      "metadata": {
        "colab": {
          "base_uri": "https://localhost:8080/"
        },
        "id": "2b868fb3",
        "outputId": "bb8984a1-7356-447d-9a3b-1412c427698d"
      },
      "outputs": [
        {
          "output_type": "stream",
          "name": "stdout",
          "text": [
            "Palindrome\n"
          ]
        }
      ],
      "source": [
        "def your_function_6(u):\n",
        "  u=u.lower()\n",
        "  r_u=u[::-1]\n",
        "  if r_u==u:\n",
        "    return \"Palindrome\"\n",
        "  else:\n",
        "    return \"Not Palindrome\"\n",
        "\n",
        "result=your_function_6(\"Malayalam\")\n",
        "print(result)"
      ]
    },
    {
      "cell_type": "markdown",
      "id": "5f2f3791",
      "metadata": {
        "id": "5f2f3791"
      },
      "source": [
        "### Question 7\n",
        "Write a function to count vowels in a string."
      ]
    },
    {
      "cell_type": "code",
      "execution_count": 170,
      "id": "73fefa50",
      "metadata": {
        "colab": {
          "base_uri": "https://localhost:8080/"
        },
        "id": "73fefa50",
        "outputId": "30c69b8b-77c3-444a-df2a-3896af17795e"
      },
      "outputs": [
        {
          "output_type": "stream",
          "name": "stdout",
          "text": [
            "Enter a string :nandana\n",
            "number of vowel in string: 3\n"
          ]
        }
      ],
      "source": [
        "def your_function_7(n=input(\"Enter a string :\")):\n",
        "  c=0\n",
        "  for i in n:\n",
        "    if i=='a' or i=='e' or i=='i' or i=='o' or i=='u' or i=='A' or i=='E' or i=='I' or i=='O' or i=='U':\n",
        "      c+=1\n",
        "  return c\n",
        "\n",
        "result = your_function_7()\n",
        "print(\"number of vowel in string:\",result)\n",
        "\n",
        ""
      ]
    },
    {
      "cell_type": "markdown",
      "id": "0d3a9996",
      "metadata": {
        "id": "0d3a9996"
      },
      "source": [
        "### Question 8\n",
        "Write a function that returns the sum of a list."
      ]
    },
    {
      "cell_type": "code",
      "execution_count": 171,
      "id": "ab6afc66",
      "metadata": {
        "colab": {
          "base_uri": "https://localhost:8080/"
        },
        "id": "ab6afc66",
        "outputId": "d1b40b4f-3755-4748-91b3-c9e848b55bc2"
      },
      "outputs": [
        {
          "output_type": "stream",
          "name": "stdout",
          "text": [
            "Sum of list 15\n"
          ]
        }
      ],
      "source": [
        "def your_function_8(o):\n",
        "    return sum(o)\n",
        "\n",
        "result = your_function_8(o=[1,2,3,4,5])\n",
        "print(\"Sum of list\",result)\n",
        "\n",
        "\n"
      ]
    },
    {
      "cell_type": "markdown",
      "id": "f6682500",
      "metadata": {
        "id": "f6682500"
      },
      "source": [
        "### Question 9\n",
        "Write a function to find the smallest number in a list."
      ]
    },
    {
      "cell_type": "code",
      "execution_count": 172,
      "id": "6798a641",
      "metadata": {
        "colab": {
          "base_uri": "https://localhost:8080/"
        },
        "id": "6798a641",
        "outputId": "e6fe151b-f915-4c5f-90d2-cfcae149bf23"
      },
      "outputs": [
        {
          "output_type": "stream",
          "name": "stdout",
          "text": [
            "Smallest number in list =  1\n"
          ]
        }
      ],
      "source": [
        "def your_function_9(k):\n",
        "  return min(k)\n",
        "\n",
        "result = your_function_9(k=[1,2,3,4,5])\n",
        "print(\"Smallest number in list = \",result)\n"
      ]
    },
    {
      "cell_type": "markdown",
      "id": "fb11e683",
      "metadata": {
        "id": "fb11e683"
      },
      "source": [
        "### Question 10\n",
        "Write a function to remove duplicates from a list."
      ]
    },
    {
      "cell_type": "code",
      "execution_count": 173,
      "id": "7c53f88c",
      "metadata": {
        "colab": {
          "base_uri": "https://localhost:8080/"
        },
        "id": "7c53f88c",
        "outputId": "69771505-9e8f-4c0f-9724-ca07324d0eb1"
      },
      "outputs": [
        {
          "output_type": "stream",
          "name": "stdout",
          "text": [
            "List without duplicates =  [1, 2, 3, 4, 5, 8]\n"
          ]
        }
      ],
      "source": [
        "def your_function_10(e):\n",
        "  set_e=set(e)\n",
        "  return list(set_e)\n",
        "\n",
        "result = your_function_10(e=[1,2,3,8,8,8,3,4,5])\n",
        "print(\"List without duplicates = \",result)\n",
        "\n"
      ]
    },
    {
      "cell_type": "markdown",
      "id": "9c380a5c",
      "metadata": {
        "id": "9c380a5c"
      },
      "source": [
        "### Question 11\n",
        "Write a function to sort a list in ascending order without using builtin sort function"
      ]
    },
    {
      "cell_type": "code",
      "execution_count": 174,
      "id": "8e43832f",
      "metadata": {
        "colab": {
          "base_uri": "https://localhost:8080/"
        },
        "id": "8e43832f",
        "outputId": "3e23e73a-5ce7-48ca-96e1-d181372ba68d"
      },
      "outputs": [
        {
          "output_type": "stream",
          "name": "stdout",
          "text": [
            "List in ascending order [1, 2, 4, 6, 7, 8]\n"
          ]
        }
      ],
      "source": [
        "def your_function_11(g):\n",
        "  N=len(g)\n",
        "  for i in range(N):\n",
        "    for j in range(0, N - i - 1):\n",
        "      if g[j] > g[j + 1]:\n",
        "       g[j], g[j + 1] = g[j + 1], g[j]\n",
        "  return g\n",
        "\n",
        "result = your_function_11(g=[4,6,7,8,1,2])\n",
        "print(\"List in ascending order\",result)"
      ]
    },
    {
      "cell_type": "markdown",
      "id": "1270c91c",
      "metadata": {
        "id": "1270c91c"
      },
      "source": [
        "### Question 12\n",
        "Write a function that returns the length of a string."
      ]
    },
    {
      "cell_type": "code",
      "execution_count": 175,
      "id": "87f35472",
      "metadata": {
        "colab": {
          "base_uri": "https://localhost:8080/"
        },
        "id": "87f35472",
        "outputId": "4e55a0c5-9bdd-4d2f-e734-68abfeb55a4a"
      },
      "outputs": [
        {
          "output_type": "stream",
          "name": "stdout",
          "text": [
            "Length of string is 5\n"
          ]
        }
      ],
      "source": [
        "def your_function_12(st):\n",
        "  return len(st)\n",
        "\n",
        "result = your_function_12(st=\"hello\")\n",
        "print(\"Length of string is\",result)\n"
      ]
    },
    {
      "cell_type": "markdown",
      "id": "9a8e3d28",
      "metadata": {
        "id": "9a8e3d28"
      },
      "source": [
        "### Question 13\n",
        "Write a function to count words in a sentence."
      ]
    },
    {
      "cell_type": "code",
      "execution_count": 176,
      "id": "e6f996ef",
      "metadata": {
        "colab": {
          "base_uri": "https://localhost:8080/"
        },
        "id": "e6f996ef",
        "outputId": "353d9dd7-db4a-4f1e-aee7-7baf4030df55"
      },
      "outputs": [
        {
          "output_type": "stream",
          "name": "stdout",
          "text": [
            "Count of words in string is 4\n"
          ]
        }
      ],
      "source": [
        "def your_function_13(sentence):\n",
        "  N=len(sentence)\n",
        "  count=0\n",
        "  for i in range(N):\n",
        "    if sentence[i]!=' ' and (i==0 or sentence[i-1]==' '):\n",
        "      count+=1\n",
        "  return count\n",
        "\n",
        "result = your_function_13(\"This is a sentence\")\n",
        "print(\"Count of words in string is\",result)\n"
      ]
    },
    {
      "cell_type": "markdown",
      "id": "430c2e4a",
      "metadata": {
        "id": "430c2e4a"
      },
      "source": [
        "### Question 14\n",
        "Write a function to convert Celsius to Fahrenheit."
      ]
    },
    {
      "cell_type": "code",
      "execution_count": 177,
      "id": "b710b0bd",
      "metadata": {
        "colab": {
          "base_uri": "https://localhost:8080/"
        },
        "id": "b710b0bd",
        "outputId": "5c00b9d4-0b1e-4421-e85c-3dd159250d71"
      },
      "outputs": [
        {
          "output_type": "stream",
          "name": "stdout",
          "text": [
            "Celsius to Fahrenheit is 32.0\n"
          ]
        }
      ],
      "source": [
        "def your_function_14(cel):\n",
        "  return (cel*(9/5))+32\n",
        "\n",
        "result = your_function_14(0)\n",
        "print(\"Celsius to Fahrenheit is\",result)\n"
      ]
    },
    {
      "cell_type": "markdown",
      "id": "acefe5e3",
      "metadata": {
        "id": "acefe5e3"
      },
      "source": [
        "### Question 15\n",
        "Write a function to check if a number is palindrome."
      ]
    },
    {
      "cell_type": "code",
      "execution_count": 178,
      "id": "b700abae",
      "metadata": {
        "colab": {
          "base_uri": "https://localhost:8080/"
        },
        "id": "b700abae",
        "outputId": "39fd4f68-5dc8-4603-ff2d-a7aa2cf18e3e"
      },
      "outputs": [
        {
          "output_type": "stream",
          "name": "stdout",
          "text": [
            "Palindrome\n"
          ]
        }
      ],
      "source": [
        "def your_function_15(d):\n",
        "  d=str(d)\n",
        "  rev_d=d[::-1]\n",
        "  if rev_d==d:\n",
        "    return \"Palindrome\"\n",
        "  else:\n",
        "    return \"Not Palindrome\"\n",
        "\n",
        "result = your_function_15(121)\n",
        "print(result)\n"
      ]
    },
    {
      "cell_type": "markdown",
      "id": "b63452cb",
      "metadata": {
        "id": "b63452cb"
      },
      "source": [
        "### Question 16\n",
        "Write a function to return all even numbers in a list."
      ]
    },
    {
      "cell_type": "code",
      "execution_count": 179,
      "id": "9d1fc968",
      "metadata": {
        "colab": {
          "base_uri": "https://localhost:8080/"
        },
        "id": "9d1fc968",
        "outputId": "cd12b73e-bfbe-46a2-c16a-f1d6337262bf"
      },
      "outputs": [
        {
          "output_type": "stream",
          "name": "stdout",
          "text": [
            "Even numbers in list [2, 4, 6, 8, 10]\n"
          ]
        }
      ],
      "source": [
        "def your_function_16(my_list):\n",
        "  N=len(my_list)\n",
        "  ev_list=[]\n",
        "  for i in range(N):\n",
        "    if my_list[i]%2==0:\n",
        "      ev_list.append(my_list[i])\n",
        "  return ev_list\n",
        "\n",
        "result = your_function_16([1,2,3,4,6,8,10])\n",
        "print(\"Even numbers in list\",result)\n"
      ]
    },
    {
      "cell_type": "markdown",
      "id": "aca524d9",
      "metadata": {
        "id": "aca524d9"
      },
      "source": [
        "### Question 17\n",
        "Write a function to return the nth Fibonacci number."
      ]
    },
    {
      "cell_type": "code",
      "execution_count": 180,
      "id": "97dc4e87",
      "metadata": {
        "colab": {
          "base_uri": "https://localhost:8080/"
        },
        "id": "97dc4e87",
        "outputId": "4db6a5d7-0bb6-42b4-f05e-cc5ef7d749d5"
      },
      "outputs": [
        {
          "output_type": "stream",
          "name": "stdout",
          "text": [
            "[0, 1, 1, 2, 3, 5]\n"
          ]
        }
      ],
      "source": [
        "def your_function_17(n):\n",
        "  a=0\n",
        "  b=1\n",
        "  u=[]\n",
        "  for i in range(n):\n",
        "    u.append(a)\n",
        "    temp=a\n",
        "    a=b\n",
        "    b=temp+b\n",
        "  return u\n",
        "\n",
        "result = your_function_17(6)\n",
        "print(result)\n"
      ]
    },
    {
      "cell_type": "markdown",
      "id": "29c847dc",
      "metadata": {
        "id": "29c847dc"
      },
      "source": [
        "### Question 18\n",
        "Write a function to calculate the average of a list."
      ]
    },
    {
      "cell_type": "code",
      "execution_count": 181,
      "id": "9adc9fd2",
      "metadata": {
        "colab": {
          "base_uri": "https://localhost:8080/"
        },
        "id": "9adc9fd2",
        "outputId": "3d5c8c38-2c1d-4e05-e353-9b847bcf9f88"
      },
      "outputs": [
        {
          "output_type": "stream",
          "name": "stdout",
          "text": [
            "Average of list is 4.857142857142857\n"
          ]
        }
      ],
      "source": [
        "def your_function_18(my_list1):\n",
        "  N=len(my_list1)\n",
        "  total=sum(my_list1)\n",
        "  return total/N\n",
        "\n",
        "result = your_function_18([1,2,3,4,6,8,10])\n",
        "print(\"Average of list is\",result)"
      ]
    },
    {
      "cell_type": "markdown",
      "id": "420240fb",
      "metadata": {
        "id": "420240fb"
      },
      "source": [
        "### Question 19\n",
        "Write a function that returns a dictionary of character counts."
      ]
    },
    {
      "cell_type": "code",
      "execution_count": 182,
      "id": "95cafc54",
      "metadata": {
        "colab": {
          "base_uri": "https://localhost:8080/"
        },
        "id": "95cafc54",
        "outputId": "0cf49d5e-61b7-4e0f-d767-7dfbf30251e3"
      },
      "outputs": [
        {
          "output_type": "stream",
          "name": "stdout",
          "text": [
            "Enter a word : happy\n",
            "{'h': 1, 'a': 1, 'p': 2, 'y': 1}\n"
          ]
        }
      ],
      "source": [
        "def your_function_19(s=input(\"Enter a word : \")):\n",
        "  s=s.lower()\n",
        "  d={}\n",
        "  for letter in s:\n",
        "    if letter in d:\n",
        "      d[letter] += 1\n",
        "    else:\n",
        "      d[letter] = 1\n",
        "\n",
        "  return d\n",
        "result = your_function_19()\n",
        "print(result)\n"
      ]
    },
    {
      "cell_type": "markdown",
      "id": "17629a07",
      "metadata": {
        "id": "17629a07"
      },
      "source": [
        "### Question 20\n",
        "Write a function that returns True if all list elements are unique."
      ]
    },
    {
      "cell_type": "code",
      "execution_count": 183,
      "id": "fe4f8820",
      "metadata": {
        "colab": {
          "base_uri": "https://localhost:8080/"
        },
        "id": "fe4f8820",
        "outputId": "a4872ba5-9c25-4b83-9823-6d41a1d5930b"
      },
      "outputs": [
        {
          "output_type": "stream",
          "name": "stdout",
          "text": [
            "True\n"
          ]
        }
      ],
      "source": [
        "def your_function_20(list1):\n",
        "  N=len(list1)\n",
        "  N1=len(set(list1))\n",
        "  if N==N1:\n",
        "    return True\n",
        "  else:\n",
        "    return False\n",
        "\n",
        "result = your_function_20([1,2,3,4,6,8,10])\n",
        "print(result)\n"
      ]
    },
    {
      "cell_type": "markdown",
      "id": "91dc87b9",
      "metadata": {
        "id": "91dc87b9"
      },
      "source": [
        "### Question 21\n",
        "Write a function that returns dot product of two list of numbers"
      ]
    },
    {
      "cell_type": "code",
      "execution_count": 184,
      "id": "87c3fa4b",
      "metadata": {
        "colab": {
          "base_uri": "https://localhost:8080/"
        },
        "id": "87c3fa4b",
        "outputId": "98745f8f-1a65-434d-e94f-40414346b770"
      },
      "outputs": [
        {
          "output_type": "stream",
          "name": "stdout",
          "text": [
            "List should be of same length\n"
          ]
        }
      ],
      "source": [
        "def your_function_21(l1,l2):\n",
        "  n=len(l1)\n",
        "  N=len(l2)\n",
        "  if n!=N:\n",
        "    return \"List should be of same length\"\n",
        "  else:\n",
        "    result =0\n",
        "    for i in range(len(l1)):\n",
        "      result += l1[i] * l2[i]\n",
        "    return result\n",
        "\n",
        "r = your_function_21([1,2],[4,5,6])\n",
        "print(r)\n"
      ]
    },
    {
      "cell_type": "markdown",
      "id": "5eeb0527",
      "metadata": {
        "id": "5eeb0527"
      },
      "source": [
        "### Question 22\n",
        "Write a function that returns the projection of vector a onto vector b. Both a and b are given as list of numbers"
      ]
    },
    {
      "cell_type": "code",
      "execution_count": 185,
      "id": "d2c2439f",
      "metadata": {
        "colab": {
          "base_uri": "https://localhost:8080/"
        },
        "id": "d2c2439f",
        "outputId": "9bded612-b95a-4027-8bbb-8fbca43ec381"
      },
      "outputs": [
        {
          "output_type": "stream",
          "name": "stdout",
          "text": [
            "3.6467384467084143\n"
          ]
        }
      ],
      "source": [
        "import math\n",
        "def your_function_22(a,b):\n",
        "  dot_product=your_function_21(a,b)\n",
        "  mag_b=math.sqrt(sum(x**2 for x in b))\n",
        "  return dot_product/mag_b\n",
        "\n",
        "\n",
        "r = your_function_22([1,2,3],[4,5,6])\n",
        "print(r)"
      ]
    },
    {
      "cell_type": "markdown",
      "id": "1410b385",
      "metadata": {
        "id": "1410b385"
      },
      "source": [
        "### Question 23\n",
        "Write a function to return common elements between two lists."
      ]
    },
    {
      "cell_type": "code",
      "execution_count": 186,
      "id": "2cee584c",
      "metadata": {
        "colab": {
          "base_uri": "https://localhost:8080/"
        },
        "id": "2cee584c",
        "outputId": "2c49ca8b-04fb-44b6-8781-87a88d035697"
      },
      "outputs": [
        {
          "output_type": "stream",
          "name": "stdout",
          "text": [
            "[4]\n"
          ]
        }
      ],
      "source": [
        "def your_function_23(n,m):\n",
        "  p=[]\n",
        "  for i in n:\n",
        "    if i in m and i not in p:\n",
        "      p.append(i)\n",
        "  return p\n",
        "\n",
        "r = your_function_23([4,2,3],[4,5,6])\n",
        "print(r)"
      ]
    },
    {
      "cell_type": "markdown",
      "id": "23ab5210",
      "metadata": {
        "id": "23ab5210"
      },
      "source": [
        "### Question 24\n",
        "Create a class Vector that supports addition, dot product, and magnitude."
      ]
    },
    {
      "cell_type": "code",
      "execution_count": 187,
      "id": "f6b18fd7",
      "metadata": {
        "colab": {
          "base_uri": "https://localhost:8080/"
        },
        "id": "f6b18fd7",
        "outputId": "1f71d2f8-66c2-4917-bf37-4bd924b1aab2"
      },
      "outputs": [
        {
          "output_type": "stream",
          "name": "stdout",
          "text": [
            "[4, 6] \n",
            " 11 \n",
            " 2.23606797749979\n"
          ]
        }
      ],
      "source": [
        "import math\n",
        "class Vector:\n",
        "  def __init__(self, a, b):\n",
        "    self.a = a\n",
        "    self.b = b\n",
        "\n",
        "  def add(self):\n",
        "    if len(self.a) != len(self.b):\n",
        "      return \"List should be of same length\"\n",
        "    else:\n",
        "      result = []\n",
        "      for i in range(len(self.a)):\n",
        "        result.append(self.a[i] + self.b[i])\n",
        "      return result\n",
        "\n",
        "  def dot_product(self):\n",
        "    if len(self.a) != len(self.b):\n",
        "      return \"Lists should be of same length\"\n",
        "    result = 0\n",
        "    for i in range(len(self.a)):\n",
        "      result += self.a[i] * self.b[i]\n",
        "    return result\n",
        "\n",
        "  def magnitude(self):\n",
        "    return math.sqrt(sum(x**2 for x in self.a))\n",
        "\n",
        "\n",
        "vector=Vector([1,2],[3,4])\n",
        "s=vector.add()\n",
        "v=vector.dot_product()\n",
        "w=vector.magnitude()\n",
        "print(s,\"\\n\",v,\"\\n\",w)"
      ]
    },
    {
      "cell_type": "markdown",
      "id": "a0621aba",
      "metadata": {
        "id": "a0621aba"
      },
      "source": [
        "### Question 25\n",
        "Implement a function to return all outliers in a list based on the IQR method."
      ]
    },
    {
      "cell_type": "code",
      "execution_count": 188,
      "id": "460a8994",
      "metadata": {
        "colab": {
          "base_uri": "https://localhost:8080/"
        },
        "id": "460a8994",
        "outputId": "49f8b482-23cd-45a8-cd50-2d7a9c217ef5"
      },
      "outputs": [
        {
          "output_type": "stream",
          "name": "stdout",
          "text": [
            "None\n"
          ]
        }
      ],
      "source": [
        "def your_function_25(my_list6):\n",
        "  sorted_list6=sorted(my_list6)\n",
        "  N=len(my_list6)\n",
        "  p=((25/100)*(N+1))\n",
        "  p1=str(p)\n",
        "  for i in p1:\n",
        "    if i==\".\":\n",
        "      k=p1.find(\".\")\n",
        "      whole_part=p1[:k]\n",
        "      dec_part=p1[k:]\n",
        "  whole_part1=int(whole_part)\n",
        "  dec_part1=float(dec_part)\n",
        "  q=sorted_list6[whole_part1-1]\n",
        "  r=sorted_list6[whole_part1]\n",
        "  Q1=q+dec_part1*(r-q)\n",
        "\n",
        "  j=((75/100)*(N+1))\n",
        "  j1=str(j)\n",
        "  for i in j1:\n",
        "    if i==\".\":\n",
        "      k=j1.find(\".\")\n",
        "      whole_part_=j1[:k]\n",
        "      dec_part_=j1[k:]\n",
        "  whole_part2=int(whole_part_)\n",
        "  dec_part2=float(dec_part_)\n",
        "  w=sorted_list6[whole_part2-1]\n",
        "  x=sorted_list6[whole_part2]\n",
        "  Q3=w+dec_part2*(x-w)\n",
        "\n",
        "  IQR=Q3-Q1\n",
        "  lower_bound=Q1-1.5*IQR\n",
        "  upper_bound=Q3+1.5*IQR\n",
        "  for i in sorted_list6:\n",
        "    if i < lower_bound or i > upper_bound:\n",
        "      return i\n",
        "    else:\n",
        "      return None\n",
        "    break\n",
        "\n",
        "\n",
        "result = your_function_25(my_list6=[7,11,23,42,-3,-21,26,30])\n",
        "print(result)\n"
      ]
    },
    {
      "cell_type": "markdown",
      "id": "f0be510e",
      "metadata": {
        "id": "f0be510e"
      },
      "source": [
        "### Question 26\n",
        "Function with default arguments:\n",
        "Create a function to compute variance with an option to use sample or population formula"
      ]
    },
    {
      "cell_type": "code",
      "execution_count": 189,
      "id": "941d732d",
      "metadata": {
        "colab": {
          "base_uri": "https://localhost:8080/"
        },
        "id": "941d732d",
        "outputId": "0b8fa881-e211-4d71-9fcf-bb618b8c9a9c"
      },
      "outputs": [
        {
          "output_type": "stream",
          "name": "stdout",
          "text": [
            "0.6666666666666666\n"
          ]
        }
      ],
      "source": [
        "def your_function_26(d, mode):\n",
        "    N = len(d)\n",
        "    mean = sum(d) / N\n",
        "    total = 0\n",
        "\n",
        "    for x in d:\n",
        "        total += (x - mean) ** 2\n",
        "\n",
        "    if mode == \"sample\":\n",
        "        return total / (N - 1)\n",
        "    elif mode == \"population\":\n",
        "        return total / N\n",
        "\n",
        "result = your_function_26([1,2,3],\"population\")\n",
        "print(result)\n"
      ]
    },
    {
      "cell_type": "markdown",
      "id": "c39be0f1",
      "metadata": {
        "id": "c39be0f1"
      },
      "source": [
        "### Question 27\n",
        "Create a list of squares of even numbers between 1 and 20 using list comprehension."
      ]
    },
    {
      "cell_type": "code",
      "execution_count": 190,
      "id": "9e4ba74a",
      "metadata": {
        "colab": {
          "base_uri": "https://localhost:8080/"
        },
        "id": "9e4ba74a",
        "outputId": "ff7bf9c0-00a0-4170-db8b-d11d6a50225a"
      },
      "outputs": [
        {
          "output_type": "stream",
          "name": "stdout",
          "text": [
            "[4, 16, 36, 64, 100, 144, 196, 256, 324, 400]\n"
          ]
        }
      ],
      "source": [
        "def your_function_27():\n",
        "  squares = [x**2 for x in range(1, 21) if x % 2 == 0]\n",
        "  return squares\n",
        "\n",
        "res=your_function_27()\n",
        "print(res)\n"
      ]
    },
    {
      "cell_type": "markdown",
      "id": "b43c266d",
      "metadata": {
        "id": "b43c266d"
      },
      "source": [
        "### Question 28\n",
        "Write a function that returns the L1 and L2 norms of a vector given as list"
      ]
    },
    {
      "cell_type": "code",
      "execution_count": 191,
      "id": "4f5dc876",
      "metadata": {
        "colab": {
          "base_uri": "https://localhost:8080/"
        },
        "id": "4f5dc876",
        "outputId": "5c45f353-1186-4266-8ce7-1f53885fbaf3"
      },
      "outputs": [
        {
          "output_type": "stream",
          "name": "stdout",
          "text": [
            "(3, 2.23606797749979)\n"
          ]
        }
      ],
      "source": [
        "import math\n",
        "def your_function_28(vector):\n",
        "  l1 = 0\n",
        "  l2 = 0\n",
        "\n",
        "  for x in vector:\n",
        "    l1 += abs(x)\n",
        "    l2 += x**2\n",
        "\n",
        "  l2 = math.sqrt(l2)\n",
        "  return l1, l2\n",
        "\n",
        "res=your_function_28([1,2])\n",
        "print(res)\n"
      ]
    },
    {
      "cell_type": "markdown",
      "id": "2007915f",
      "metadata": {
        "id": "2007915f"
      },
      "source": [
        "### Question 29\n",
        "Write a function that computes the 95% confidence interval for the mean of a list of numbers assuming normal distribution."
      ]
    },
    {
      "cell_type": "code",
      "execution_count": 192,
      "id": "8634dc63",
      "metadata": {
        "colab": {
          "base_uri": "https://localhost:8080/"
        },
        "id": "8634dc63",
        "outputId": "e2743c7c-ba5c-4437-9df7-eef4d36215ff"
      },
      "outputs": [
        {
          "output_type": "stream",
          "name": "stdout",
          "text": [
            "95% Confidence Interval for the mean: (11.25009783955893, 13.607045017583928)\n"
          ]
        }
      ],
      "source": [
        "import math\n",
        "def your_function_29(data):\n",
        "    n = len(data)\n",
        "    mean = sum(data) / n\n",
        "    total = 0\n",
        "    for x in data:\n",
        "        total += (x - mean) ** 2\n",
        "    std_dev = math.sqrt(total /n)\n",
        "    margin_of_error = 1.96 * (std_dev / math.sqrt(n))\n",
        "\n",
        "    lower_bound = mean - margin_of_error\n",
        "    upper_bound = mean + margin_of_error\n",
        "    return lower_bound, upper_bound\n",
        "\n",
        "result = your_function_29([10, 12, 14, 15, 13, 11, 12])\n",
        "print(\"95% Confidence Interval for the mean:\", result)"
      ]
    },
    {
      "cell_type": "markdown",
      "id": "08df3afb",
      "metadata": {
        "id": "08df3afb"
      },
      "source": [
        "### Question 30\n",
        "Given a list of categorical values, create a frequency distribution dictionary."
      ]
    },
    {
      "cell_type": "code",
      "execution_count": 193,
      "id": "c9b88531",
      "metadata": {
        "colab": {
          "base_uri": "https://localhost:8080/"
        },
        "id": "c9b88531",
        "outputId": "fa623626-f0d3-49bc-f22e-9d664ae87e3e"
      },
      "outputs": [
        {
          "output_type": "stream",
          "name": "stdout",
          "text": [
            "{'book': 2, 'bag': 2, 'pencil': 2}\n"
          ]
        }
      ],
      "source": [
        "def your_function_30(categories):\n",
        "  freq = {}\n",
        "  for item in categories:\n",
        "    if item in freq:\n",
        "      freq[item] += 1\n",
        "    else:\n",
        "      freq[item] = 1\n",
        "  return freq\n",
        "\n",
        "result = your_function_30([\"book\", \"bag\", \"book\", \"pencil\", \"bag\", \"pencil\"])\n",
        "print(result)"
      ]
    }
  ],
  "metadata": {
    "language_info": {
      "name": "python"
    },
    "colab": {
      "provenance": [],
      "include_colab_link": true
    },
    "kernelspec": {
      "name": "python3",
      "display_name": "Python 3"
    }
  },
  "nbformat": 4,
  "nbformat_minor": 5
}